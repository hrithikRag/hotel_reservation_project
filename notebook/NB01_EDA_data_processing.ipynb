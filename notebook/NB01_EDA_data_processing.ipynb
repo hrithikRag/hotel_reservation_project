{
 "cells": [
  {
   "cell_type": "code",
   "execution_count": 2,
   "id": "ce310204",
   "metadata": {},
   "outputs": [],
   "source": [
    "import pandas as pd\n",
    "import numpy as np\n",
    "import matplotlib.pyplot as plt\n",
    "import seaborn as sns\n",
    "import warnings\n",
    "from statsmodels.stats.outliers_influence import variance_inflation_factor\n",
    "from statsmodels.tools.tools import add_constant\n",
    "warnings.simplefilter(\"ignore\")\n",
    "from config.paths_config import *"
   ]
  },
  {
   "cell_type": "code",
   "execution_count": 51,
   "id": "1cd77c01",
   "metadata": {},
   "outputs": [
    {
     "data": {
      "text/html": [
       "<div>\n",
       "<style scoped>\n",
       "    .dataframe tbody tr th:only-of-type {\n",
       "        vertical-align: middle;\n",
       "    }\n",
       "\n",
       "    .dataframe tbody tr th {\n",
       "        vertical-align: top;\n",
       "    }\n",
       "\n",
       "    .dataframe thead th {\n",
       "        text-align: right;\n",
       "    }\n",
       "</style>\n",
       "<table border=\"1\" class=\"dataframe\">\n",
       "  <thead>\n",
       "    <tr style=\"text-align: right;\">\n",
       "      <th></th>\n",
       "      <th>Booking_ID</th>\n",
       "      <th>no_of_adults</th>\n",
       "      <th>no_of_children</th>\n",
       "      <th>no_of_weekend_nights</th>\n",
       "      <th>no_of_week_nights</th>\n",
       "      <th>type_of_meal_plan</th>\n",
       "      <th>required_car_parking_space</th>\n",
       "      <th>room_type_reserved</th>\n",
       "      <th>lead_time</th>\n",
       "      <th>arrival_year</th>\n",
       "      <th>arrival_month</th>\n",
       "      <th>arrival_date</th>\n",
       "      <th>market_segment_type</th>\n",
       "      <th>repeated_guest</th>\n",
       "      <th>no_of_previous_cancellations</th>\n",
       "      <th>no_of_previous_bookings_not_canceled</th>\n",
       "      <th>avg_price_per_room</th>\n",
       "      <th>no_of_special_requests</th>\n",
       "      <th>booking_status</th>\n",
       "    </tr>\n",
       "  </thead>\n",
       "  <tbody>\n",
       "    <tr>\n",
       "      <th>0</th>\n",
       "      <td>INN25630</td>\n",
       "      <td>2</td>\n",
       "      <td>1</td>\n",
       "      <td>2</td>\n",
       "      <td>1</td>\n",
       "      <td>Meal Plan 1</td>\n",
       "      <td>0</td>\n",
       "      <td>Room_Type 1</td>\n",
       "      <td>26</td>\n",
       "      <td>2017</td>\n",
       "      <td>10</td>\n",
       "      <td>17</td>\n",
       "      <td>Online</td>\n",
       "      <td>0</td>\n",
       "      <td>0</td>\n",
       "      <td>0</td>\n",
       "      <td>161.0</td>\n",
       "      <td>0</td>\n",
       "      <td>Not_Canceled</td>\n",
       "    </tr>\n",
       "  </tbody>\n",
       "</table>\n",
       "</div>"
      ],
      "text/plain": [
       "  Booking_ID  no_of_adults  no_of_children  no_of_weekend_nights  \\\n",
       "0   INN25630             2               1                     2   \n",
       "\n",
       "   no_of_week_nights type_of_meal_plan  required_car_parking_space  \\\n",
       "0                  1       Meal Plan 1                           0   \n",
       "\n",
       "  room_type_reserved  lead_time  arrival_year  arrival_month  arrival_date  \\\n",
       "0        Room_Type 1         26          2017             10            17   \n",
       "\n",
       "  market_segment_type  repeated_guest  no_of_previous_cancellations  \\\n",
       "0              Online               0                             0   \n",
       "\n",
       "   no_of_previous_bookings_not_canceled  avg_price_per_room  \\\n",
       "0                                     0               161.0   \n",
       "\n",
       "   no_of_special_requests booking_status  \n",
       "0                       0   Not_Canceled  "
      ]
     },
     "execution_count": 51,
     "metadata": {},
     "output_type": "execute_result"
    }
   ],
   "source": [
    "data=pd.read_csv(r\"C:\\Users\\hrith\\OneDrive\\Documents\\mlops_tutorial\\mlops_beginner_to_advanced\\hotel_reservations_project\\artifacts\\raw\\train.csv\")\n",
    "data.head(1)"
   ]
  },
  {
   "cell_type": "code",
   "execution_count": 52,
   "id": "12744c6b",
   "metadata": {},
   "outputs": [
    {
     "data": {
      "text/plain": [
       "(29020, 17)"
      ]
     },
     "execution_count": 52,
     "metadata": {},
     "output_type": "execute_result"
    }
   ],
   "source": [
    "data.drop(columns=['Booking_ID', 'arrival_year'],inplace=True)\n",
    "data.shape"
   ]
  },
  {
   "cell_type": "code",
   "execution_count": 53,
   "id": "e8d8856a",
   "metadata": {},
   "outputs": [
    {
     "data": {
      "text/plain": [
       "(21359, 17)"
      ]
     },
     "execution_count": 53,
     "metadata": {},
     "output_type": "execute_result"
    }
   ],
   "source": [
    "data.drop_duplicates(inplace=True)\n",
    "data.shape"
   ]
  },
  {
   "cell_type": "code",
   "execution_count": 54,
   "id": "44cb8896",
   "metadata": {},
   "outputs": [
    {
     "name": "stdout",
     "output_type": "stream",
     "text": [
      "<class 'pandas.core.frame.DataFrame'>\n",
      "Index: 21359 entries, 0 to 29019\n",
      "Data columns (total 17 columns):\n",
      " #   Column                                Non-Null Count  Dtype  \n",
      "---  ------                                --------------  -----  \n",
      " 0   no_of_adults                          21359 non-null  int64  \n",
      " 1   no_of_children                        21359 non-null  int64  \n",
      " 2   no_of_weekend_nights                  21359 non-null  int64  \n",
      " 3   no_of_week_nights                     21359 non-null  int64  \n",
      " 4   type_of_meal_plan                     21359 non-null  object \n",
      " 5   required_car_parking_space            21359 non-null  int64  \n",
      " 6   room_type_reserved                    21359 non-null  object \n",
      " 7   lead_time                             21359 non-null  int64  \n",
      " 8   arrival_month                         21359 non-null  int64  \n",
      " 9   arrival_date                          21359 non-null  int64  \n",
      " 10  market_segment_type                   21359 non-null  object \n",
      " 11  repeated_guest                        21359 non-null  int64  \n",
      " 12  no_of_previous_cancellations          21359 non-null  int64  \n",
      " 13  no_of_previous_bookings_not_canceled  21359 non-null  int64  \n",
      " 14  avg_price_per_room                    21359 non-null  float64\n",
      " 15  no_of_special_requests                21359 non-null  int64  \n",
      " 16  booking_status                        21359 non-null  object \n",
      "dtypes: float64(1), int64(12), object(4)\n",
      "memory usage: 2.9+ MB\n"
     ]
    }
   ],
   "source": [
    "data.info()"
   ]
  },
  {
   "cell_type": "code",
   "execution_count": 55,
   "id": "43437ab5",
   "metadata": {},
   "outputs": [],
   "source": [
    "cat_cols=['type_of_meal_plan','room_type_reserved','market_segment_type','booking_status','required_car_parking_space', 'repeated_guest']\n",
    "num_cols=[col for col in data.columns if col not in cat_cols]"
   ]
  },
  {
   "cell_type": "code",
   "execution_count": 56,
   "id": "1c1b37c5",
   "metadata": {},
   "outputs": [
    {
     "data": {
      "text/plain": [
       "['type_of_meal_plan',\n",
       " 'room_type_reserved',\n",
       " 'market_segment_type',\n",
       " 'booking_status',\n",
       " 'required_car_parking_space',\n",
       " 'repeated_guest']"
      ]
     },
     "execution_count": 56,
     "metadata": {},
     "output_type": "execute_result"
    }
   ],
   "source": [
    "cat_cols"
   ]
  },
  {
   "cell_type": "code",
   "execution_count": 57,
   "id": "82576bad",
   "metadata": {},
   "outputs": [
    {
     "data": {
      "text/plain": [
       "['no_of_adults',\n",
       " 'no_of_children',\n",
       " 'no_of_weekend_nights',\n",
       " 'no_of_week_nights',\n",
       " 'lead_time',\n",
       " 'arrival_month',\n",
       " 'arrival_date',\n",
       " 'no_of_previous_cancellations',\n",
       " 'no_of_previous_bookings_not_canceled',\n",
       " 'avg_price_per_room',\n",
       " 'no_of_special_requests']"
      ]
     },
     "execution_count": 57,
     "metadata": {},
     "output_type": "execute_result"
    }
   ],
   "source": [
    "num_cols"
   ]
  },
  {
   "cell_type": "code",
   "execution_count": 58,
   "id": "cd772459",
   "metadata": {},
   "outputs": [
    {
     "data": {
      "text/plain": [
       "no_of_adults                            0\n",
       "no_of_children                          0\n",
       "no_of_weekend_nights                    0\n",
       "no_of_week_nights                       0\n",
       "type_of_meal_plan                       0\n",
       "required_car_parking_space              0\n",
       "room_type_reserved                      0\n",
       "lead_time                               0\n",
       "arrival_month                           0\n",
       "arrival_date                            0\n",
       "market_segment_type                     0\n",
       "repeated_guest                          0\n",
       "no_of_previous_cancellations            0\n",
       "no_of_previous_bookings_not_canceled    0\n",
       "avg_price_per_room                      0\n",
       "no_of_special_requests                  0\n",
       "booking_status                          0\n",
       "dtype: int64"
      ]
     },
     "execution_count": 58,
     "metadata": {},
     "output_type": "execute_result"
    }
   ],
   "source": [
    "data.isna().sum()"
   ]
  },
  {
   "cell_type": "code",
   "execution_count": 59,
   "id": "eb6301d0",
   "metadata": {},
   "outputs": [],
   "source": [
    "# Univariate analysis : check distribution of each feature\n",
    "# Bivariate analysis : check how each feature is affecting the Y variable, check correlation among features"
   ]
  },
  {
   "cell_type": "code",
   "execution_count": 60,
   "id": "dc00334a",
   "metadata": {},
   "outputs": [],
   "source": [
    "# Data Cleaning and processing"
   ]
  },
  {
   "cell_type": "code",
   "execution_count": 61,
   "id": "ce8ba61b",
   "metadata": {},
   "outputs": [
    {
     "name": "stdout",
     "output_type": "stream",
     "text": [
      "<class 'pandas.core.frame.DataFrame'>\n",
      "Index: 21359 entries, 0 to 29019\n",
      "Data columns (total 17 columns):\n",
      " #   Column                                Non-Null Count  Dtype  \n",
      "---  ------                                --------------  -----  \n",
      " 0   no_of_adults                          21359 non-null  int64  \n",
      " 1   no_of_children                        21359 non-null  int64  \n",
      " 2   no_of_weekend_nights                  21359 non-null  int64  \n",
      " 3   no_of_week_nights                     21359 non-null  int64  \n",
      " 4   type_of_meal_plan                     21359 non-null  object \n",
      " 5   required_car_parking_space            21359 non-null  int64  \n",
      " 6   room_type_reserved                    21359 non-null  object \n",
      " 7   lead_time                             21359 non-null  int64  \n",
      " 8   arrival_month                         21359 non-null  int64  \n",
      " 9   arrival_date                          21359 non-null  int64  \n",
      " 10  market_segment_type                   21359 non-null  object \n",
      " 11  repeated_guest                        21359 non-null  int64  \n",
      " 12  no_of_previous_cancellations          21359 non-null  int64  \n",
      " 13  no_of_previous_bookings_not_canceled  21359 non-null  int64  \n",
      " 14  avg_price_per_room                    21359 non-null  float64\n",
      " 15  no_of_special_requests                21359 non-null  int64  \n",
      " 16  booking_status                        21359 non-null  object \n",
      "dtypes: float64(1), int64(12), object(4)\n",
      "memory usage: 2.9+ MB\n"
     ]
    }
   ],
   "source": [
    "data.info()"
   ]
  },
  {
   "cell_type": "code",
   "execution_count": 62,
   "id": "6afc329e",
   "metadata": {},
   "outputs": [
    {
     "data": {
      "text/plain": [
       "type_of_meal_plan\n",
       "Meal Plan 1     16759\n",
       "Not Selected     3627\n",
       "Meal Plan 2       969\n",
       "Meal Plan 3         4\n",
       "Name: count, dtype: int64"
      ]
     },
     "execution_count": 62,
     "metadata": {},
     "output_type": "execute_result"
    }
   ],
   "source": [
    "#data['type_of_meal_plan']=np.where(data['type_of_meal_plan']=='Not Selected', 0, data['type_of_meal_plan'])\n",
    "data['type_of_meal_plan'].value_counts()"
   ]
  },
  {
   "cell_type": "code",
   "execution_count": 63,
   "id": "5221b76c",
   "metadata": {},
   "outputs": [],
   "source": [
    "def modify_meal_plan(x):\n",
    "    if x=='Not Selected':\n",
    "        return 0\n",
    "\n",
    "    if x=='Meal Plan 1':\n",
    "        return 1\n",
    "\n",
    "    if x=='Meal Plan 2':\n",
    "        return 2\n",
    "\n",
    "    if x=='Meal Plan 3':\n",
    "        return 3"
   ]
  },
  {
   "cell_type": "code",
   "execution_count": 64,
   "id": "edff108e",
   "metadata": {},
   "outputs": [
    {
     "data": {
      "text/plain": [
       "type_of_meal_plan\n",
       "1    16759\n",
       "0     3627\n",
       "2      969\n",
       "3        4\n",
       "Name: count, dtype: int64"
      ]
     },
     "execution_count": 64,
     "metadata": {},
     "output_type": "execute_result"
    }
   ],
   "source": [
    "data['type_of_meal_plan']=data['type_of_meal_plan'].apply(lambda x: modify_meal_plan(x))\n",
    "data['type_of_meal_plan'].value_counts()"
   ]
  },
  {
   "cell_type": "code",
   "execution_count": 65,
   "id": "f50545e7",
   "metadata": {},
   "outputs": [
    {
     "data": {
      "text/plain": [
       "room_type_reserved\n",
       "Room_Type 1    0.719837\n",
       "Room_Type 4    0.206143\n",
       "Room_Type 6    0.035489\n",
       "Room_Type 2    0.023409\n",
       "Room_Type 5    0.008896\n",
       "Room_Type 7    0.006040\n",
       "Room_Type 3    0.000187\n",
       "Name: proportion, dtype: float64"
      ]
     },
     "execution_count": 65,
     "metadata": {},
     "output_type": "execute_result"
    }
   ],
   "source": [
    "data['room_type_reserved'].value_counts(normalize=True)\n"
   ]
  },
  {
   "cell_type": "code",
   "execution_count": 66,
   "id": "a07e1eb8",
   "metadata": {},
   "outputs": [
    {
     "data": {
      "text/plain": [
       "room_type_reserved\n",
       "1    0.719837\n",
       "4    0.206143\n",
       "6    0.035489\n",
       "2    0.023409\n",
       "5    0.008896\n",
       "7    0.006040\n",
       "3    0.000187\n",
       "Name: proportion, dtype: float64"
      ]
     },
     "execution_count": 66,
     "metadata": {},
     "output_type": "execute_result"
    }
   ],
   "source": [
    "data['room_type_reserved']=data['room_type_reserved'].apply(lambda x: int(x.split(' ')[-1]) )\n",
    "data['room_type_reserved'].value_counts(normalize=True)"
   ]
  },
  {
   "cell_type": "code",
   "execution_count": 67,
   "id": "246a8f9e",
   "metadata": {},
   "outputs": [
    {
     "data": {
      "text/plain": [
       "booking_status\n",
       "Not_Canceled    0.713095\n",
       "Canceled        0.286905\n",
       "Name: proportion, dtype: float64"
      ]
     },
     "execution_count": 67,
     "metadata": {},
     "output_type": "execute_result"
    }
   ],
   "source": [
    "data['booking_status'].value_counts(normalize=True)"
   ]
  },
  {
   "cell_type": "code",
   "execution_count": 68,
   "id": "ddbbf5e3",
   "metadata": {},
   "outputs": [
    {
     "data": {
      "text/plain": [
       "booking_status\n",
       "0    0.713095\n",
       "1    0.286905\n",
       "Name: proportion, dtype: float64"
      ]
     },
     "execution_count": 68,
     "metadata": {},
     "output_type": "execute_result"
    }
   ],
   "source": [
    "data['booking_status']=data['booking_status'].apply(lambda x: 1 if x=='Canceled' else 0)\n",
    "data['booking_status'].value_counts(normalize=True)"
   ]
  },
  {
   "cell_type": "code",
   "execution_count": 69,
   "id": "aa6d8764",
   "metadata": {},
   "outputs": [
    {
     "data": {
      "text/plain": [
       "market_segment_type\n",
       "Online           0.764268\n",
       "Offline          0.162508\n",
       "Corporate        0.055808\n",
       "Complementary    0.013624\n",
       "Aviation         0.003792\n",
       "Name: proportion, dtype: float64"
      ]
     },
     "execution_count": 69,
     "metadata": {},
     "output_type": "execute_result"
    }
   ],
   "source": [
    "data['market_segment_type'].value_counts(normalize=True)"
   ]
  },
  {
   "cell_type": "code",
   "execution_count": 70,
   "id": "fe0c048e",
   "metadata": {},
   "outputs": [],
   "source": [
    "def modify_market_segment_type(x):\n",
    "    if x=='Online':\n",
    "        return 0\n",
    "\n",
    "    if x=='Offline':\n",
    "        return 1\n",
    "\n",
    "    if x=='Corporate':\n",
    "        return 2\n",
    "\n",
    "    if x=='Complementary':\n",
    "        return 3\n",
    "    \n",
    "    if x=='Aviation':\n",
    "        return 4"
   ]
  },
  {
   "cell_type": "code",
   "execution_count": 71,
   "id": "903208af",
   "metadata": {},
   "outputs": [
    {
     "data": {
      "text/plain": [
       "market_segment_type\n",
       "0    0.764268\n",
       "1    0.162508\n",
       "2    0.055808\n",
       "3    0.013624\n",
       "4    0.003792\n",
       "Name: proportion, dtype: float64"
      ]
     },
     "execution_count": 71,
     "metadata": {},
     "output_type": "execute_result"
    }
   ],
   "source": [
    "data['market_segment_type']=data['market_segment_type'].apply(lambda x: modify_market_segment_type(x))\n",
    "data['market_segment_type'].value_counts(normalize=True)"
   ]
  },
  {
   "cell_type": "code",
   "execution_count": 72,
   "id": "3c97cbe4",
   "metadata": {},
   "outputs": [
    {
     "data": {
      "text/html": [
       "<div>\n",
       "<style scoped>\n",
       "    .dataframe tbody tr th:only-of-type {\n",
       "        vertical-align: middle;\n",
       "    }\n",
       "\n",
       "    .dataframe tbody tr th {\n",
       "        vertical-align: top;\n",
       "    }\n",
       "\n",
       "    .dataframe thead th {\n",
       "        text-align: right;\n",
       "    }\n",
       "</style>\n",
       "<table border=\"1\" class=\"dataframe\">\n",
       "  <thead>\n",
       "    <tr style=\"text-align: right;\">\n",
       "      <th></th>\n",
       "      <th>no_of_adults</th>\n",
       "      <th>no_of_children</th>\n",
       "      <th>no_of_weekend_nights</th>\n",
       "      <th>no_of_week_nights</th>\n",
       "      <th>type_of_meal_plan</th>\n",
       "      <th>required_car_parking_space</th>\n",
       "      <th>room_type_reserved</th>\n",
       "      <th>lead_time</th>\n",
       "      <th>arrival_month</th>\n",
       "      <th>arrival_date</th>\n",
       "      <th>market_segment_type</th>\n",
       "      <th>repeated_guest</th>\n",
       "      <th>no_of_previous_cancellations</th>\n",
       "      <th>no_of_previous_bookings_not_canceled</th>\n",
       "      <th>avg_price_per_room</th>\n",
       "      <th>no_of_special_requests</th>\n",
       "      <th>booking_status</th>\n",
       "    </tr>\n",
       "  </thead>\n",
       "  <tbody>\n",
       "    <tr>\n",
       "      <th>0</th>\n",
       "      <td>2</td>\n",
       "      <td>1</td>\n",
       "      <td>2</td>\n",
       "      <td>1</td>\n",
       "      <td>1</td>\n",
       "      <td>0</td>\n",
       "      <td>1</td>\n",
       "      <td>26</td>\n",
       "      <td>10</td>\n",
       "      <td>17</td>\n",
       "      <td>0</td>\n",
       "      <td>0</td>\n",
       "      <td>0</td>\n",
       "      <td>0</td>\n",
       "      <td>161.00</td>\n",
       "      <td>0</td>\n",
       "      <td>0</td>\n",
       "    </tr>\n",
       "    <tr>\n",
       "      <th>1</th>\n",
       "      <td>2</td>\n",
       "      <td>1</td>\n",
       "      <td>1</td>\n",
       "      <td>1</td>\n",
       "      <td>1</td>\n",
       "      <td>0</td>\n",
       "      <td>1</td>\n",
       "      <td>98</td>\n",
       "      <td>7</td>\n",
       "      <td>16</td>\n",
       "      <td>0</td>\n",
       "      <td>0</td>\n",
       "      <td>0</td>\n",
       "      <td>0</td>\n",
       "      <td>121.50</td>\n",
       "      <td>2</td>\n",
       "      <td>0</td>\n",
       "    </tr>\n",
       "    <tr>\n",
       "      <th>2</th>\n",
       "      <td>2</td>\n",
       "      <td>0</td>\n",
       "      <td>0</td>\n",
       "      <td>3</td>\n",
       "      <td>1</td>\n",
       "      <td>0</td>\n",
       "      <td>1</td>\n",
       "      <td>433</td>\n",
       "      <td>9</td>\n",
       "      <td>8</td>\n",
       "      <td>1</td>\n",
       "      <td>0</td>\n",
       "      <td>0</td>\n",
       "      <td>0</td>\n",
       "      <td>70.00</td>\n",
       "      <td>0</td>\n",
       "      <td>1</td>\n",
       "    </tr>\n",
       "    <tr>\n",
       "      <th>3</th>\n",
       "      <td>2</td>\n",
       "      <td>0</td>\n",
       "      <td>2</td>\n",
       "      <td>5</td>\n",
       "      <td>1</td>\n",
       "      <td>0</td>\n",
       "      <td>1</td>\n",
       "      <td>195</td>\n",
       "      <td>8</td>\n",
       "      <td>8</td>\n",
       "      <td>1</td>\n",
       "      <td>0</td>\n",
       "      <td>0</td>\n",
       "      <td>0</td>\n",
       "      <td>72.25</td>\n",
       "      <td>0</td>\n",
       "      <td>0</td>\n",
       "    </tr>\n",
       "    <tr>\n",
       "      <th>4</th>\n",
       "      <td>1</td>\n",
       "      <td>0</td>\n",
       "      <td>0</td>\n",
       "      <td>2</td>\n",
       "      <td>1</td>\n",
       "      <td>0</td>\n",
       "      <td>1</td>\n",
       "      <td>188</td>\n",
       "      <td>6</td>\n",
       "      <td>15</td>\n",
       "      <td>1</td>\n",
       "      <td>0</td>\n",
       "      <td>0</td>\n",
       "      <td>0</td>\n",
       "      <td>130.00</td>\n",
       "      <td>0</td>\n",
       "      <td>1</td>\n",
       "    </tr>\n",
       "  </tbody>\n",
       "</table>\n",
       "</div>"
      ],
      "text/plain": [
       "   no_of_adults  no_of_children  no_of_weekend_nights  no_of_week_nights  \\\n",
       "0             2               1                     2                  1   \n",
       "1             2               1                     1                  1   \n",
       "2             2               0                     0                  3   \n",
       "3             2               0                     2                  5   \n",
       "4             1               0                     0                  2   \n",
       "\n",
       "   type_of_meal_plan  required_car_parking_space  room_type_reserved  \\\n",
       "0                  1                           0                   1   \n",
       "1                  1                           0                   1   \n",
       "2                  1                           0                   1   \n",
       "3                  1                           0                   1   \n",
       "4                  1                           0                   1   \n",
       "\n",
       "   lead_time  arrival_month  arrival_date  market_segment_type  \\\n",
       "0         26             10            17                    0   \n",
       "1         98              7            16                    0   \n",
       "2        433              9             8                    1   \n",
       "3        195              8             8                    1   \n",
       "4        188              6            15                    1   \n",
       "\n",
       "   repeated_guest  no_of_previous_cancellations  \\\n",
       "0               0                             0   \n",
       "1               0                             0   \n",
       "2               0                             0   \n",
       "3               0                             0   \n",
       "4               0                             0   \n",
       "\n",
       "   no_of_previous_bookings_not_canceled  avg_price_per_room  \\\n",
       "0                                     0              161.00   \n",
       "1                                     0              121.50   \n",
       "2                                     0               70.00   \n",
       "3                                     0               72.25   \n",
       "4                                     0              130.00   \n",
       "\n",
       "   no_of_special_requests  booking_status  \n",
       "0                       0               0  \n",
       "1                       2               0  \n",
       "2                       0               1  \n",
       "3                       0               0  \n",
       "4                       0               1  "
      ]
     },
     "execution_count": 72,
     "metadata": {},
     "output_type": "execute_result"
    }
   ],
   "source": [
    "data.head()"
   ]
  },
  {
   "cell_type": "code",
   "execution_count": 73,
   "id": "2b06c07e",
   "metadata": {},
   "outputs": [
    {
     "name": "stdout",
     "output_type": "stream",
     "text": [
      "<class 'pandas.core.frame.DataFrame'>\n",
      "Index: 21359 entries, 0 to 29019\n",
      "Data columns (total 17 columns):\n",
      " #   Column                                Non-Null Count  Dtype  \n",
      "---  ------                                --------------  -----  \n",
      " 0   no_of_adults                          21359 non-null  int64  \n",
      " 1   no_of_children                        21359 non-null  int64  \n",
      " 2   no_of_weekend_nights                  21359 non-null  int64  \n",
      " 3   no_of_week_nights                     21359 non-null  int64  \n",
      " 4   type_of_meal_plan                     21359 non-null  int64  \n",
      " 5   required_car_parking_space            21359 non-null  int64  \n",
      " 6   room_type_reserved                    21359 non-null  int64  \n",
      " 7   lead_time                             21359 non-null  int64  \n",
      " 8   arrival_month                         21359 non-null  int64  \n",
      " 9   arrival_date                          21359 non-null  int64  \n",
      " 10  market_segment_type                   21359 non-null  int64  \n",
      " 11  repeated_guest                        21359 non-null  int64  \n",
      " 12  no_of_previous_cancellations          21359 non-null  int64  \n",
      " 13  no_of_previous_bookings_not_canceled  21359 non-null  int64  \n",
      " 14  avg_price_per_room                    21359 non-null  float64\n",
      " 15  no_of_special_requests                21359 non-null  int64  \n",
      " 16  booking_status                        21359 non-null  int64  \n",
      "dtypes: float64(1), int64(16)\n",
      "memory usage: 2.9 MB\n"
     ]
    }
   ],
   "source": [
    "data.info()"
   ]
  },
  {
   "cell_type": "code",
   "execution_count": 74,
   "id": "c97941e3",
   "metadata": {},
   "outputs": [],
   "source": [
    "################################# checking for multicollinearity #####################################"
   ]
  },
  {
   "cell_type": "code",
   "execution_count": 75,
   "id": "cdb78dd4",
   "metadata": {},
   "outputs": [
    {
     "data": {
      "text/plain": [
       "(21359, 18)"
      ]
     },
     "execution_count": 75,
     "metadata": {},
     "output_type": "execute_result"
    }
   ],
   "source": [
    "X=add_constant(data)\n",
    "X.shape"
   ]
  },
  {
   "cell_type": "code",
   "execution_count": 76,
   "id": "b7b2d37f",
   "metadata": {},
   "outputs": [
    {
     "data": {
      "text/plain": [
       "(18, 1)"
      ]
     },
     "execution_count": 76,
     "metadata": {},
     "output_type": "execute_result"
    }
   ],
   "source": [
    "vif_data=pd.DataFrame({'feature':X.columns})\n",
    "vif_data.shape"
   ]
  },
  {
   "cell_type": "code",
   "execution_count": 77,
   "id": "55cc9b2b",
   "metadata": {},
   "outputs": [
    {
     "data": {
      "text/html": [
       "<div>\n",
       "<style scoped>\n",
       "    .dataframe tbody tr th:only-of-type {\n",
       "        vertical-align: middle;\n",
       "    }\n",
       "\n",
       "    .dataframe tbody tr th {\n",
       "        vertical-align: top;\n",
       "    }\n",
       "\n",
       "    .dataframe thead th {\n",
       "        text-align: right;\n",
       "    }\n",
       "</style>\n",
       "<table border=\"1\" class=\"dataframe\">\n",
       "  <thead>\n",
       "    <tr style=\"text-align: right;\">\n",
       "      <th></th>\n",
       "      <th>feature</th>\n",
       "      <th>VIF</th>\n",
       "    </tr>\n",
       "  </thead>\n",
       "  <tbody>\n",
       "    <tr>\n",
       "      <th>0</th>\n",
       "      <td>const</td>\n",
       "      <td>34.569984</td>\n",
       "    </tr>\n",
       "    <tr>\n",
       "      <th>1</th>\n",
       "      <td>no_of_adults</td>\n",
       "      <td>1.341775</td>\n",
       "    </tr>\n",
       "    <tr>\n",
       "      <th>2</th>\n",
       "      <td>no_of_children</td>\n",
       "      <td>1.279622</td>\n",
       "    </tr>\n",
       "    <tr>\n",
       "      <th>3</th>\n",
       "      <td>no_of_weekend_nights</td>\n",
       "      <td>1.073545</td>\n",
       "    </tr>\n",
       "    <tr>\n",
       "      <th>4</th>\n",
       "      <td>no_of_week_nights</td>\n",
       "      <td>1.124571</td>\n",
       "    </tr>\n",
       "  </tbody>\n",
       "</table>\n",
       "</div>"
      ],
      "text/plain": [
       "                feature        VIF\n",
       "0                 const  34.569984\n",
       "1          no_of_adults   1.341775\n",
       "2        no_of_children   1.279622\n",
       "3  no_of_weekend_nights   1.073545\n",
       "4     no_of_week_nights   1.124571"
      ]
     },
     "execution_count": 77,
     "metadata": {},
     "output_type": "execute_result"
    }
   ],
   "source": [
    "vif_data['VIF']=[ variance_inflation_factor(X.values, i) for i in range(X.shape[1]) ]\n",
    "vif_data.head()"
   ]
  },
  {
   "cell_type": "code",
   "execution_count": 78,
   "id": "1e2588bd",
   "metadata": {},
   "outputs": [],
   "source": [
    "################# All VIF values for features are less than 2 , hence there is very less correlation among features"
   ]
  },
  {
   "cell_type": "code",
   "execution_count": 79,
   "id": "96d58625",
   "metadata": {},
   "outputs": [],
   "source": [
    "########################################## treating columns with high values ##############################################"
   ]
  },
  {
   "cell_type": "code",
   "execution_count": 80,
   "id": "723ce689",
   "metadata": {},
   "outputs": [
    {
     "data": {
      "text/html": [
       "<div>\n",
       "<style scoped>\n",
       "    .dataframe tbody tr th:only-of-type {\n",
       "        vertical-align: middle;\n",
       "    }\n",
       "\n",
       "    .dataframe tbody tr th {\n",
       "        vertical-align: top;\n",
       "    }\n",
       "\n",
       "    .dataframe thead th {\n",
       "        text-align: right;\n",
       "    }\n",
       "</style>\n",
       "<table border=\"1\" class=\"dataframe\">\n",
       "  <thead>\n",
       "    <tr style=\"text-align: right;\">\n",
       "      <th></th>\n",
       "      <th>index</th>\n",
       "      <th>0</th>\n",
       "    </tr>\n",
       "  </thead>\n",
       "  <tbody>\n",
       "    <tr>\n",
       "      <th>0</th>\n",
       "      <td>no_of_adults</td>\n",
       "      <td>4.0</td>\n",
       "    </tr>\n",
       "    <tr>\n",
       "      <th>1</th>\n",
       "      <td>no_of_children</td>\n",
       "      <td>10.0</td>\n",
       "    </tr>\n",
       "    <tr>\n",
       "      <th>2</th>\n",
       "      <td>no_of_weekend_nights</td>\n",
       "      <td>6.0</td>\n",
       "    </tr>\n",
       "    <tr>\n",
       "      <th>3</th>\n",
       "      <td>no_of_week_nights</td>\n",
       "      <td>17.0</td>\n",
       "    </tr>\n",
       "    <tr>\n",
       "      <th>4</th>\n",
       "      <td>type_of_meal_plan</td>\n",
       "      <td>3.0</td>\n",
       "    </tr>\n",
       "    <tr>\n",
       "      <th>5</th>\n",
       "      <td>required_car_parking_space</td>\n",
       "      <td>1.0</td>\n",
       "    </tr>\n",
       "    <tr>\n",
       "      <th>6</th>\n",
       "      <td>room_type_reserved</td>\n",
       "      <td>7.0</td>\n",
       "    </tr>\n",
       "    <tr>\n",
       "      <th>7</th>\n",
       "      <td>lead_time</td>\n",
       "      <td>443.0</td>\n",
       "    </tr>\n",
       "    <tr>\n",
       "      <th>8</th>\n",
       "      <td>arrival_month</td>\n",
       "      <td>12.0</td>\n",
       "    </tr>\n",
       "    <tr>\n",
       "      <th>9</th>\n",
       "      <td>arrival_date</td>\n",
       "      <td>31.0</td>\n",
       "    </tr>\n",
       "    <tr>\n",
       "      <th>10</th>\n",
       "      <td>market_segment_type</td>\n",
       "      <td>4.0</td>\n",
       "    </tr>\n",
       "    <tr>\n",
       "      <th>11</th>\n",
       "      <td>repeated_guest</td>\n",
       "      <td>1.0</td>\n",
       "    </tr>\n",
       "    <tr>\n",
       "      <th>12</th>\n",
       "      <td>no_of_previous_cancellations</td>\n",
       "      <td>13.0</td>\n",
       "    </tr>\n",
       "    <tr>\n",
       "      <th>13</th>\n",
       "      <td>no_of_previous_bookings_not_canceled</td>\n",
       "      <td>58.0</td>\n",
       "    </tr>\n",
       "    <tr>\n",
       "      <th>14</th>\n",
       "      <td>avg_price_per_room</td>\n",
       "      <td>375.5</td>\n",
       "    </tr>\n",
       "    <tr>\n",
       "      <th>15</th>\n",
       "      <td>no_of_special_requests</td>\n",
       "      <td>5.0</td>\n",
       "    </tr>\n",
       "    <tr>\n",
       "      <th>16</th>\n",
       "      <td>booking_status</td>\n",
       "      <td>1.0</td>\n",
       "    </tr>\n",
       "  </tbody>\n",
       "</table>\n",
       "</div>"
      ],
      "text/plain": [
       "                                   index      0\n",
       "0                           no_of_adults    4.0\n",
       "1                         no_of_children   10.0\n",
       "2                   no_of_weekend_nights    6.0\n",
       "3                      no_of_week_nights   17.0\n",
       "4                      type_of_meal_plan    3.0\n",
       "5             required_car_parking_space    1.0\n",
       "6                     room_type_reserved    7.0\n",
       "7                              lead_time  443.0\n",
       "8                          arrival_month   12.0\n",
       "9                           arrival_date   31.0\n",
       "10                   market_segment_type    4.0\n",
       "11                        repeated_guest    1.0\n",
       "12          no_of_previous_cancellations   13.0\n",
       "13  no_of_previous_bookings_not_canceled   58.0\n",
       "14                    avg_price_per_room  375.5\n",
       "15                no_of_special_requests    5.0\n",
       "16                        booking_status    1.0"
      ]
     },
     "execution_count": 80,
     "metadata": {},
     "output_type": "execute_result"
    }
   ],
   "source": [
    "max_vals=data.max().reset_index()\n",
    "max_vals"
   ]
  },
  {
   "cell_type": "code",
   "execution_count": 81,
   "id": "fb3e61d8",
   "metadata": {},
   "outputs": [],
   "source": [
    "##################### max values treatement is not required ##########################"
   ]
  },
  {
   "cell_type": "code",
   "execution_count": 82,
   "id": "18c084fa",
   "metadata": {},
   "outputs": [],
   "source": [
    "############################ checking skewness ###################################"
   ]
  },
  {
   "cell_type": "code",
   "execution_count": 83,
   "id": "19e2543c",
   "metadata": {},
   "outputs": [
    {
     "data": {
      "text/html": [
       "<div>\n",
       "<style scoped>\n",
       "    .dataframe tbody tr th:only-of-type {\n",
       "        vertical-align: middle;\n",
       "    }\n",
       "\n",
       "    .dataframe tbody tr th {\n",
       "        vertical-align: top;\n",
       "    }\n",
       "\n",
       "    .dataframe thead th {\n",
       "        text-align: right;\n",
       "    }\n",
       "</style>\n",
       "<table border=\"1\" class=\"dataframe\">\n",
       "  <thead>\n",
       "    <tr style=\"text-align: right;\">\n",
       "      <th></th>\n",
       "      <th>index</th>\n",
       "      <th>0</th>\n",
       "    </tr>\n",
       "  </thead>\n",
       "  <tbody>\n",
       "    <tr>\n",
       "      <th>0</th>\n",
       "      <td>no_of_adults</td>\n",
       "      <td>-0.305652</td>\n",
       "    </tr>\n",
       "    <tr>\n",
       "      <th>1</th>\n",
       "      <td>no_of_children</td>\n",
       "      <td>4.165696</td>\n",
       "    </tr>\n",
       "    <tr>\n",
       "      <th>2</th>\n",
       "      <td>no_of_weekend_nights</td>\n",
       "      <td>0.636637</td>\n",
       "    </tr>\n",
       "    <tr>\n",
       "      <th>3</th>\n",
       "      <td>no_of_week_nights</td>\n",
       "      <td>1.553657</td>\n",
       "    </tr>\n",
       "    <tr>\n",
       "      <th>4</th>\n",
       "      <td>type_of_meal_plan</td>\n",
       "      <td>-0.516680</td>\n",
       "    </tr>\n",
       "    <tr>\n",
       "      <th>5</th>\n",
       "      <td>required_car_parking_space</td>\n",
       "      <td>4.538315</td>\n",
       "    </tr>\n",
       "    <tr>\n",
       "      <th>6</th>\n",
       "      <td>room_type_reserved</td>\n",
       "      <td>1.392145</td>\n",
       "    </tr>\n",
       "    <tr>\n",
       "      <th>7</th>\n",
       "      <td>lead_time</td>\n",
       "      <td>1.405258</td>\n",
       "    </tr>\n",
       "    <tr>\n",
       "      <th>8</th>\n",
       "      <td>arrival_month</td>\n",
       "      <td>-0.293266</td>\n",
       "    </tr>\n",
       "    <tr>\n",
       "      <th>9</th>\n",
       "      <td>arrival_date</td>\n",
       "      <td>0.010333</td>\n",
       "    </tr>\n",
       "    <tr>\n",
       "      <th>10</th>\n",
       "      <td>market_segment_type</td>\n",
       "      <td>2.333046</td>\n",
       "    </tr>\n",
       "    <tr>\n",
       "      <th>11</th>\n",
       "      <td>repeated_guest</td>\n",
       "      <td>5.282330</td>\n",
       "    </tr>\n",
       "    <tr>\n",
       "      <th>12</th>\n",
       "      <td>no_of_previous_cancellations</td>\n",
       "      <td>22.001489</td>\n",
       "    </tr>\n",
       "    <tr>\n",
       "      <th>13</th>\n",
       "      <td>no_of_previous_bookings_not_canceled</td>\n",
       "      <td>16.735934</td>\n",
       "    </tr>\n",
       "    <tr>\n",
       "      <th>14</th>\n",
       "      <td>avg_price_per_room</td>\n",
       "      <td>0.542888</td>\n",
       "    </tr>\n",
       "    <tr>\n",
       "      <th>15</th>\n",
       "      <td>no_of_special_requests</td>\n",
       "      <td>0.922373</td>\n",
       "    </tr>\n",
       "    <tr>\n",
       "      <th>16</th>\n",
       "      <td>booking_status</td>\n",
       "      <td>0.942305</td>\n",
       "    </tr>\n",
       "  </tbody>\n",
       "</table>\n",
       "</div>"
      ],
      "text/plain": [
       "                                   index          0\n",
       "0                           no_of_adults  -0.305652\n",
       "1                         no_of_children   4.165696\n",
       "2                   no_of_weekend_nights   0.636637\n",
       "3                      no_of_week_nights   1.553657\n",
       "4                      type_of_meal_plan  -0.516680\n",
       "5             required_car_parking_space   4.538315\n",
       "6                     room_type_reserved   1.392145\n",
       "7                              lead_time   1.405258\n",
       "8                          arrival_month  -0.293266\n",
       "9                           arrival_date   0.010333\n",
       "10                   market_segment_type   2.333046\n",
       "11                        repeated_guest   5.282330\n",
       "12          no_of_previous_cancellations  22.001489\n",
       "13  no_of_previous_bookings_not_canceled  16.735934\n",
       "14                    avg_price_per_room   0.542888\n",
       "15                no_of_special_requests   0.922373\n",
       "16                        booking_status   0.942305"
      ]
     },
     "execution_count": 83,
     "metadata": {},
     "output_type": "execute_result"
    }
   ],
   "source": [
    "skewness=data.skew().reset_index()\n",
    "skewness"
   ]
  },
  {
   "cell_type": "code",
   "execution_count": 84,
   "id": "f8a8d323",
   "metadata": {},
   "outputs": [
    {
     "data": {
      "text/plain": [
       "['repeated_guest',\n",
       " 'no_of_previous_cancellations',\n",
       " 'no_of_previous_bookings_not_canceled']"
      ]
     },
     "execution_count": 84,
     "metadata": {},
     "output_type": "execute_result"
    }
   ],
   "source": [
    "skew_cols=skewness[skewness[0]>5]['index'].to_list()\n",
    "skew_cols"
   ]
  },
  {
   "cell_type": "code",
   "execution_count": 85,
   "id": "054ab0f4",
   "metadata": {},
   "outputs": [],
   "source": [
    "for col in skew_cols:\n",
    "    data[col]=np.log1p(data[col])"
   ]
  },
  {
   "cell_type": "code",
   "execution_count": 86,
   "id": "d0080aac",
   "metadata": {},
   "outputs": [
    {
     "data": {
      "text/plain": [
       "no_of_adults                            -0.305652\n",
       "no_of_children                           4.165696\n",
       "no_of_weekend_nights                     0.636637\n",
       "no_of_week_nights                        1.553657\n",
       "type_of_meal_plan                       -0.516680\n",
       "required_car_parking_space               4.538315\n",
       "room_type_reserved                       1.392145\n",
       "lead_time                                1.405258\n",
       "arrival_month                           -0.293266\n",
       "arrival_date                             0.010333\n",
       "market_segment_type                      2.333046\n",
       "repeated_guest                           5.282330\n",
       "no_of_previous_cancellations            13.270580\n",
       "no_of_previous_bookings_not_canceled     7.619850\n",
       "avg_price_per_room                       0.542888\n",
       "no_of_special_requests                   0.922373\n",
       "booking_status                           0.942305\n",
       "dtype: float64"
      ]
     },
     "execution_count": 86,
     "metadata": {},
     "output_type": "execute_result"
    }
   ],
   "source": [
    "skewness_new=data.skew()\n",
    "skewness_new"
   ]
  },
  {
   "cell_type": "code",
   "execution_count": 87,
   "id": "a5f60c20",
   "metadata": {},
   "outputs": [],
   "source": [
    "###############################################################"
   ]
  },
  {
   "cell_type": "code",
   "execution_count": 88,
   "id": "dcc7f126",
   "metadata": {},
   "outputs": [
    {
     "data": {
      "text/html": [
       "<div>\n",
       "<style scoped>\n",
       "    .dataframe tbody tr th:only-of-type {\n",
       "        vertical-align: middle;\n",
       "    }\n",
       "\n",
       "    .dataframe tbody tr th {\n",
       "        vertical-align: top;\n",
       "    }\n",
       "\n",
       "    .dataframe thead th {\n",
       "        text-align: right;\n",
       "    }\n",
       "</style>\n",
       "<table border=\"1\" class=\"dataframe\">\n",
       "  <thead>\n",
       "    <tr style=\"text-align: right;\">\n",
       "      <th></th>\n",
       "      <th>no_of_adults</th>\n",
       "      <th>no_of_children</th>\n",
       "      <th>no_of_weekend_nights</th>\n",
       "      <th>no_of_week_nights</th>\n",
       "      <th>type_of_meal_plan</th>\n",
       "      <th>required_car_parking_space</th>\n",
       "      <th>room_type_reserved</th>\n",
       "      <th>lead_time</th>\n",
       "      <th>arrival_month</th>\n",
       "      <th>arrival_date</th>\n",
       "      <th>market_segment_type</th>\n",
       "      <th>repeated_guest</th>\n",
       "      <th>no_of_previous_cancellations</th>\n",
       "      <th>no_of_previous_bookings_not_canceled</th>\n",
       "      <th>avg_price_per_room</th>\n",
       "      <th>no_of_special_requests</th>\n",
       "      <th>booking_status</th>\n",
       "    </tr>\n",
       "  </thead>\n",
       "  <tbody>\n",
       "    <tr>\n",
       "      <th>0</th>\n",
       "      <td>2</td>\n",
       "      <td>1</td>\n",
       "      <td>2</td>\n",
       "      <td>1</td>\n",
       "      <td>1</td>\n",
       "      <td>0</td>\n",
       "      <td>1</td>\n",
       "      <td>26</td>\n",
       "      <td>10</td>\n",
       "      <td>17</td>\n",
       "      <td>0</td>\n",
       "      <td>0.0</td>\n",
       "      <td>0.0</td>\n",
       "      <td>0.0</td>\n",
       "      <td>161.00</td>\n",
       "      <td>0</td>\n",
       "      <td>0</td>\n",
       "    </tr>\n",
       "    <tr>\n",
       "      <th>1</th>\n",
       "      <td>2</td>\n",
       "      <td>1</td>\n",
       "      <td>1</td>\n",
       "      <td>1</td>\n",
       "      <td>1</td>\n",
       "      <td>0</td>\n",
       "      <td>1</td>\n",
       "      <td>98</td>\n",
       "      <td>7</td>\n",
       "      <td>16</td>\n",
       "      <td>0</td>\n",
       "      <td>0.0</td>\n",
       "      <td>0.0</td>\n",
       "      <td>0.0</td>\n",
       "      <td>121.50</td>\n",
       "      <td>2</td>\n",
       "      <td>0</td>\n",
       "    </tr>\n",
       "    <tr>\n",
       "      <th>2</th>\n",
       "      <td>2</td>\n",
       "      <td>0</td>\n",
       "      <td>0</td>\n",
       "      <td>3</td>\n",
       "      <td>1</td>\n",
       "      <td>0</td>\n",
       "      <td>1</td>\n",
       "      <td>433</td>\n",
       "      <td>9</td>\n",
       "      <td>8</td>\n",
       "      <td>1</td>\n",
       "      <td>0.0</td>\n",
       "      <td>0.0</td>\n",
       "      <td>0.0</td>\n",
       "      <td>70.00</td>\n",
       "      <td>0</td>\n",
       "      <td>1</td>\n",
       "    </tr>\n",
       "    <tr>\n",
       "      <th>3</th>\n",
       "      <td>2</td>\n",
       "      <td>0</td>\n",
       "      <td>2</td>\n",
       "      <td>5</td>\n",
       "      <td>1</td>\n",
       "      <td>0</td>\n",
       "      <td>1</td>\n",
       "      <td>195</td>\n",
       "      <td>8</td>\n",
       "      <td>8</td>\n",
       "      <td>1</td>\n",
       "      <td>0.0</td>\n",
       "      <td>0.0</td>\n",
       "      <td>0.0</td>\n",
       "      <td>72.25</td>\n",
       "      <td>0</td>\n",
       "      <td>0</td>\n",
       "    </tr>\n",
       "    <tr>\n",
       "      <th>4</th>\n",
       "      <td>1</td>\n",
       "      <td>0</td>\n",
       "      <td>0</td>\n",
       "      <td>2</td>\n",
       "      <td>1</td>\n",
       "      <td>0</td>\n",
       "      <td>1</td>\n",
       "      <td>188</td>\n",
       "      <td>6</td>\n",
       "      <td>15</td>\n",
       "      <td>1</td>\n",
       "      <td>0.0</td>\n",
       "      <td>0.0</td>\n",
       "      <td>0.0</td>\n",
       "      <td>130.00</td>\n",
       "      <td>0</td>\n",
       "      <td>1</td>\n",
       "    </tr>\n",
       "  </tbody>\n",
       "</table>\n",
       "</div>"
      ],
      "text/plain": [
       "   no_of_adults  no_of_children  no_of_weekend_nights  no_of_week_nights  \\\n",
       "0             2               1                     2                  1   \n",
       "1             2               1                     1                  1   \n",
       "2             2               0                     0                  3   \n",
       "3             2               0                     2                  5   \n",
       "4             1               0                     0                  2   \n",
       "\n",
       "   type_of_meal_plan  required_car_parking_space  room_type_reserved  \\\n",
       "0                  1                           0                   1   \n",
       "1                  1                           0                   1   \n",
       "2                  1                           0                   1   \n",
       "3                  1                           0                   1   \n",
       "4                  1                           0                   1   \n",
       "\n",
       "   lead_time  arrival_month  arrival_date  market_segment_type  \\\n",
       "0         26             10            17                    0   \n",
       "1         98              7            16                    0   \n",
       "2        433              9             8                    1   \n",
       "3        195              8             8                    1   \n",
       "4        188              6            15                    1   \n",
       "\n",
       "   repeated_guest  no_of_previous_cancellations  \\\n",
       "0             0.0                           0.0   \n",
       "1             0.0                           0.0   \n",
       "2             0.0                           0.0   \n",
       "3             0.0                           0.0   \n",
       "4             0.0                           0.0   \n",
       "\n",
       "   no_of_previous_bookings_not_canceled  avg_price_per_room  \\\n",
       "0                                   0.0              161.00   \n",
       "1                                   0.0              121.50   \n",
       "2                                   0.0               70.00   \n",
       "3                                   0.0               72.25   \n",
       "4                                   0.0              130.00   \n",
       "\n",
       "   no_of_special_requests  booking_status  \n",
       "0                       0               0  \n",
       "1                       2               0  \n",
       "2                       0               1  \n",
       "3                       0               0  \n",
       "4                       0               1  "
      ]
     },
     "execution_count": 88,
     "metadata": {},
     "output_type": "execute_result"
    }
   ],
   "source": [
    "data.head()"
   ]
  },
  {
   "cell_type": "code",
   "execution_count": 1,
   "id": "d231f83b",
   "metadata": {},
   "outputs": [],
   "source": [
    "import numpy as np\n",
    "from config.paths_config import MODEL_OUTPUT_PATH\n",
    "import joblib"
   ]
  },
  {
   "cell_type": "code",
   "execution_count": 3,
   "id": "2fb08def",
   "metadata": {},
   "outputs": [
    {
     "data": {
      "text/plain": [
       "(30462, 11)"
      ]
     },
     "execution_count": 3,
     "metadata": {},
     "output_type": "execute_result"
    }
   ],
   "source": [
    "df_processed=pd.read_csv(r\"C:\\Users\\hrith\\OneDrive\\Documents\\mlops_tutorial\\mlops_beginner_to_advanced\\hotel_reservations_project\\artifacts\\processed\\processed_train.csv\")\n",
    "df_processed.shape"
   ]
  },
  {
   "cell_type": "code",
   "execution_count": 4,
   "id": "4ae4a3cc",
   "metadata": {},
   "outputs": [
    {
     "data": {
      "text/html": [
       "<div>\n",
       "<style scoped>\n",
       "    .dataframe tbody tr th:only-of-type {\n",
       "        vertical-align: middle;\n",
       "    }\n",
       "\n",
       "    .dataframe tbody tr th {\n",
       "        vertical-align: top;\n",
       "    }\n",
       "\n",
       "    .dataframe thead th {\n",
       "        text-align: right;\n",
       "    }\n",
       "</style>\n",
       "<table border=\"1\" class=\"dataframe\">\n",
       "  <thead>\n",
       "    <tr style=\"text-align: right;\">\n",
       "      <th></th>\n",
       "      <th>lead_time</th>\n",
       "      <th>no_of_special_requests</th>\n",
       "      <th>avg_price_per_room</th>\n",
       "      <th>arrival_date</th>\n",
       "      <th>arrival_month</th>\n",
       "      <th>market_segment_type</th>\n",
       "      <th>no_of_week_nights</th>\n",
       "      <th>no_of_weekend_nights</th>\n",
       "      <th>type_of_meal_plan</th>\n",
       "      <th>room_type_reserved</th>\n",
       "      <th>booking_status</th>\n",
       "    </tr>\n",
       "  </thead>\n",
       "  <tbody>\n",
       "    <tr>\n",
       "      <th>0</th>\n",
       "      <td>26</td>\n",
       "      <td>0</td>\n",
       "      <td>161.0</td>\n",
       "      <td>17</td>\n",
       "      <td>10</td>\n",
       "      <td>4</td>\n",
       "      <td>1</td>\n",
       "      <td>2</td>\n",
       "      <td>0</td>\n",
       "      <td>0</td>\n",
       "      <td>1</td>\n",
       "    </tr>\n",
       "  </tbody>\n",
       "</table>\n",
       "</div>"
      ],
      "text/plain": [
       "   lead_time  no_of_special_requests  avg_price_per_room  arrival_date  \\\n",
       "0         26                       0               161.0            17   \n",
       "\n",
       "   arrival_month  market_segment_type  no_of_week_nights  \\\n",
       "0             10                    4                  1   \n",
       "\n",
       "   no_of_weekend_nights  type_of_meal_plan  room_type_reserved  booking_status  \n",
       "0                     2                  0                   0               1  "
      ]
     },
     "execution_count": 4,
     "metadata": {},
     "output_type": "execute_result"
    }
   ],
   "source": [
    "df_processed.head(1)"
   ]
  },
  {
   "cell_type": "code",
   "execution_count": 5,
   "id": "560cea72",
   "metadata": {},
   "outputs": [],
   "source": [
    "model=joblib.load(r'C:\\Users\\hrith\\OneDrive\\Documents\\mlops_tutorial\\mlops_beginner_to_advanced\\hotel_reservations_project\\artifacts\\models\\lgbm_model.pkl')"
   ]
  },
  {
   "cell_type": "code",
   "execution_count": 6,
   "id": "19b9594c",
   "metadata": {},
   "outputs": [],
   "source": [
    "df_processed['prediction']=model.predict(df_processed[['lead_time', \n",
    "                              'no_of_special_requests', \n",
    "                              'avg_price_per_room', \n",
    "                              'arrival_date', \n",
    "                              'arrival_month', \n",
    "                              'market_segment_type',\n",
    "                              'no_of_week_nights',\n",
    "                              'no_of_weekend_nights', \n",
    "                              'type_of_meal_plan',\n",
    "                              'room_type_reserved']])"
   ]
  },
  {
   "cell_type": "code",
   "execution_count": 7,
   "id": "24a98e2b",
   "metadata": {},
   "outputs": [
    {
     "data": {
      "text/html": [
       "<div>\n",
       "<style scoped>\n",
       "    .dataframe tbody tr th:only-of-type {\n",
       "        vertical-align: middle;\n",
       "    }\n",
       "\n",
       "    .dataframe tbody tr th {\n",
       "        vertical-align: top;\n",
       "    }\n",
       "\n",
       "    .dataframe thead th {\n",
       "        text-align: right;\n",
       "    }\n",
       "</style>\n",
       "<table border=\"1\" class=\"dataframe\">\n",
       "  <thead>\n",
       "    <tr style=\"text-align: right;\">\n",
       "      <th></th>\n",
       "      <th>lead_time</th>\n",
       "      <th>no_of_special_requests</th>\n",
       "      <th>avg_price_per_room</th>\n",
       "      <th>arrival_date</th>\n",
       "      <th>arrival_month</th>\n",
       "      <th>market_segment_type</th>\n",
       "      <th>no_of_week_nights</th>\n",
       "      <th>no_of_weekend_nights</th>\n",
       "      <th>type_of_meal_plan</th>\n",
       "      <th>room_type_reserved</th>\n",
       "      <th>booking_status</th>\n",
       "      <th>prediction</th>\n",
       "    </tr>\n",
       "  </thead>\n",
       "  <tbody>\n",
       "    <tr>\n",
       "      <th>0</th>\n",
       "      <td>26</td>\n",
       "      <td>0</td>\n",
       "      <td>161.0</td>\n",
       "      <td>17</td>\n",
       "      <td>10</td>\n",
       "      <td>4</td>\n",
       "      <td>1</td>\n",
       "      <td>2</td>\n",
       "      <td>0</td>\n",
       "      <td>0</td>\n",
       "      <td>1</td>\n",
       "      <td>1</td>\n",
       "    </tr>\n",
       "  </tbody>\n",
       "</table>\n",
       "</div>"
      ],
      "text/plain": [
       "   lead_time  no_of_special_requests  avg_price_per_room  arrival_date  \\\n",
       "0         26                       0               161.0            17   \n",
       "\n",
       "   arrival_month  market_segment_type  no_of_week_nights  \\\n",
       "0             10                    4                  1   \n",
       "\n",
       "   no_of_weekend_nights  type_of_meal_plan  room_type_reserved  \\\n",
       "0                     2                  0                   0   \n",
       "\n",
       "   booking_status  prediction  \n",
       "0               1           1  "
      ]
     },
     "execution_count": 7,
     "metadata": {},
     "output_type": "execute_result"
    }
   ],
   "source": [
    "df_processed[df_processed['prediction']==1].head(1)"
   ]
  },
  {
   "cell_type": "code",
   "execution_count": 8,
   "id": "a609f90e",
   "metadata": {},
   "outputs": [
    {
     "data": {
      "text/html": [
       "<div>\n",
       "<style scoped>\n",
       "    .dataframe tbody tr th:only-of-type {\n",
       "        vertical-align: middle;\n",
       "    }\n",
       "\n",
       "    .dataframe tbody tr th {\n",
       "        vertical-align: top;\n",
       "    }\n",
       "\n",
       "    .dataframe thead th {\n",
       "        text-align: right;\n",
       "    }\n",
       "</style>\n",
       "<table border=\"1\" class=\"dataframe\">\n",
       "  <thead>\n",
       "    <tr style=\"text-align: right;\">\n",
       "      <th></th>\n",
       "      <th>lead_time</th>\n",
       "      <th>no_of_special_requests</th>\n",
       "      <th>avg_price_per_room</th>\n",
       "      <th>arrival_date</th>\n",
       "      <th>arrival_month</th>\n",
       "      <th>market_segment_type</th>\n",
       "      <th>no_of_week_nights</th>\n",
       "      <th>no_of_weekend_nights</th>\n",
       "      <th>type_of_meal_plan</th>\n",
       "      <th>room_type_reserved</th>\n",
       "      <th>booking_status</th>\n",
       "      <th>prediction</th>\n",
       "    </tr>\n",
       "  </thead>\n",
       "  <tbody>\n",
       "    <tr>\n",
       "      <th>2</th>\n",
       "      <td>433</td>\n",
       "      <td>0</td>\n",
       "      <td>70.0</td>\n",
       "      <td>8</td>\n",
       "      <td>9</td>\n",
       "      <td>3</td>\n",
       "      <td>3</td>\n",
       "      <td>0</td>\n",
       "      <td>0</td>\n",
       "      <td>0</td>\n",
       "      <td>0</td>\n",
       "      <td>0</td>\n",
       "    </tr>\n",
       "  </tbody>\n",
       "</table>\n",
       "</div>"
      ],
      "text/plain": [
       "   lead_time  no_of_special_requests  avg_price_per_room  arrival_date  \\\n",
       "2        433                       0                70.0             8   \n",
       "\n",
       "   arrival_month  market_segment_type  no_of_week_nights  \\\n",
       "2              9                    3                  3   \n",
       "\n",
       "   no_of_weekend_nights  type_of_meal_plan  room_type_reserved  \\\n",
       "2                     0                  0                   0   \n",
       "\n",
       "   booking_status  prediction  \n",
       "2               0           0  "
      ]
     },
     "execution_count": 8,
     "metadata": {},
     "output_type": "execute_result"
    }
   ],
   "source": [
    "df_processed[df_processed['prediction']==0].head(1)"
   ]
  },
  {
   "cell_type": "code",
   "execution_count": 9,
   "id": "84463fb8",
   "metadata": {},
   "outputs": [],
   "source": [
    "#"
   ]
  },
  {
   "cell_type": "code",
   "execution_count": null,
   "id": "18662a20",
   "metadata": {},
   "outputs": [],
   "source": []
  }
 ],
 "metadata": {
  "kernelspec": {
   "display_name": "venv",
   "language": "python",
   "name": "python3"
  },
  "language_info": {
   "codemirror_mode": {
    "name": "ipython",
    "version": 3
   },
   "file_extension": ".py",
   "mimetype": "text/x-python",
   "name": "python",
   "nbconvert_exporter": "python",
   "pygments_lexer": "ipython3",
   "version": "3.13.6"
  }
 },
 "nbformat": 4,
 "nbformat_minor": 5
}
